{
  "nbformat": 4,
  "nbformat_minor": 0,
  "metadata": {
    "colab": {
      "provenance": []
    },
    "kernelspec": {
      "name": "python3",
      "display_name": "Python 3"
    },
    "language_info": {
      "name": "python"
    },
    "widgets": {
      "application/vnd.jupyter.widget-state+json": {
        "1e742d061629406288bb787dce9205d8": {
          "model_module": "@jupyter-widgets/controls",
          "model_name": "HBoxModel",
          "model_module_version": "1.5.0",
          "state": {
            "_dom_classes": [],
            "_model_module": "@jupyter-widgets/controls",
            "_model_module_version": "1.5.0",
            "_model_name": "HBoxModel",
            "_view_count": null,
            "_view_module": "@jupyter-widgets/controls",
            "_view_module_version": "1.5.0",
            "_view_name": "HBoxView",
            "box_style": "",
            "children": [
              "IPY_MODEL_ef4ecb6706c64521a1699787536cfe25",
              "IPY_MODEL_e8ef214e73624311bd64714df73416b8",
              "IPY_MODEL_2722fd367f1247a6a89003fef3d6dd95"
            ],
            "layout": "IPY_MODEL_6cf7b66e764e463eb74e24cb91b9b2b5"
          }
        },
        "ef4ecb6706c64521a1699787536cfe25": {
          "model_module": "@jupyter-widgets/controls",
          "model_name": "HTMLModel",
          "model_module_version": "1.5.0",
          "state": {
            "_dom_classes": [],
            "_model_module": "@jupyter-widgets/controls",
            "_model_module_version": "1.5.0",
            "_model_name": "HTMLModel",
            "_view_count": null,
            "_view_module": "@jupyter-widgets/controls",
            "_view_module_version": "1.5.0",
            "_view_name": "HTMLView",
            "description": "",
            "description_tooltip": null,
            "layout": "IPY_MODEL_65fc1087aa9240beb1bceda6483549a6",
            "placeholder": "​",
            "style": "IPY_MODEL_f8b6a1ec696b4419894286dc991d9edd",
            "value": "Downloading (…)solve/main/vocab.txt: 100%"
          }
        },
        "e8ef214e73624311bd64714df73416b8": {
          "model_module": "@jupyter-widgets/controls",
          "model_name": "FloatProgressModel",
          "model_module_version": "1.5.0",
          "state": {
            "_dom_classes": [],
            "_model_module": "@jupyter-widgets/controls",
            "_model_module_version": "1.5.0",
            "_model_name": "FloatProgressModel",
            "_view_count": null,
            "_view_module": "@jupyter-widgets/controls",
            "_view_module_version": "1.5.0",
            "_view_name": "ProgressView",
            "bar_style": "success",
            "description": "",
            "description_tooltip": null,
            "layout": "IPY_MODEL_3499361bbc6d4327a8f85e48c74caa1f",
            "max": 213450,
            "min": 0,
            "orientation": "horizontal",
            "style": "IPY_MODEL_0d40c4dc03514eada314b8b504c021ca",
            "value": 213450
          }
        },
        "2722fd367f1247a6a89003fef3d6dd95": {
          "model_module": "@jupyter-widgets/controls",
          "model_name": "HTMLModel",
          "model_module_version": "1.5.0",
          "state": {
            "_dom_classes": [],
            "_model_module": "@jupyter-widgets/controls",
            "_model_module_version": "1.5.0",
            "_model_name": "HTMLModel",
            "_view_count": null,
            "_view_module": "@jupyter-widgets/controls",
            "_view_module_version": "1.5.0",
            "_view_name": "HTMLView",
            "description": "",
            "description_tooltip": null,
            "layout": "IPY_MODEL_4a714b5458ef40acafc67787eccd4d6a",
            "placeholder": "​",
            "style": "IPY_MODEL_271a6860e6304ec89800f783e0c2fe13",
            "value": " 213k/213k [00:00&lt;00:00, 5.11MB/s]"
          }
        },
        "6cf7b66e764e463eb74e24cb91b9b2b5": {
          "model_module": "@jupyter-widgets/base",
          "model_name": "LayoutModel",
          "model_module_version": "1.2.0",
          "state": {
            "_model_module": "@jupyter-widgets/base",
            "_model_module_version": "1.2.0",
            "_model_name": "LayoutModel",
            "_view_count": null,
            "_view_module": "@jupyter-widgets/base",
            "_view_module_version": "1.2.0",
            "_view_name": "LayoutView",
            "align_content": null,
            "align_items": null,
            "align_self": null,
            "border": null,
            "bottom": null,
            "display": null,
            "flex": null,
            "flex_flow": null,
            "grid_area": null,
            "grid_auto_columns": null,
            "grid_auto_flow": null,
            "grid_auto_rows": null,
            "grid_column": null,
            "grid_gap": null,
            "grid_row": null,
            "grid_template_areas": null,
            "grid_template_columns": null,
            "grid_template_rows": null,
            "height": null,
            "justify_content": null,
            "justify_items": null,
            "left": null,
            "margin": null,
            "max_height": null,
            "max_width": null,
            "min_height": null,
            "min_width": null,
            "object_fit": null,
            "object_position": null,
            "order": null,
            "overflow": null,
            "overflow_x": null,
            "overflow_y": null,
            "padding": null,
            "right": null,
            "top": null,
            "visibility": null,
            "width": null
          }
        },
        "65fc1087aa9240beb1bceda6483549a6": {
          "model_module": "@jupyter-widgets/base",
          "model_name": "LayoutModel",
          "model_module_version": "1.2.0",
          "state": {
            "_model_module": "@jupyter-widgets/base",
            "_model_module_version": "1.2.0",
            "_model_name": "LayoutModel",
            "_view_count": null,
            "_view_module": "@jupyter-widgets/base",
            "_view_module_version": "1.2.0",
            "_view_name": "LayoutView",
            "align_content": null,
            "align_items": null,
            "align_self": null,
            "border": null,
            "bottom": null,
            "display": null,
            "flex": null,
            "flex_flow": null,
            "grid_area": null,
            "grid_auto_columns": null,
            "grid_auto_flow": null,
            "grid_auto_rows": null,
            "grid_column": null,
            "grid_gap": null,
            "grid_row": null,
            "grid_template_areas": null,
            "grid_template_columns": null,
            "grid_template_rows": null,
            "height": null,
            "justify_content": null,
            "justify_items": null,
            "left": null,
            "margin": null,
            "max_height": null,
            "max_width": null,
            "min_height": null,
            "min_width": null,
            "object_fit": null,
            "object_position": null,
            "order": null,
            "overflow": null,
            "overflow_x": null,
            "overflow_y": null,
            "padding": null,
            "right": null,
            "top": null,
            "visibility": null,
            "width": null
          }
        },
        "f8b6a1ec696b4419894286dc991d9edd": {
          "model_module": "@jupyter-widgets/controls",
          "model_name": "DescriptionStyleModel",
          "model_module_version": "1.5.0",
          "state": {
            "_model_module": "@jupyter-widgets/controls",
            "_model_module_version": "1.5.0",
            "_model_name": "DescriptionStyleModel",
            "_view_count": null,
            "_view_module": "@jupyter-widgets/base",
            "_view_module_version": "1.2.0",
            "_view_name": "StyleView",
            "description_width": ""
          }
        },
        "3499361bbc6d4327a8f85e48c74caa1f": {
          "model_module": "@jupyter-widgets/base",
          "model_name": "LayoutModel",
          "model_module_version": "1.2.0",
          "state": {
            "_model_module": "@jupyter-widgets/base",
            "_model_module_version": "1.2.0",
            "_model_name": "LayoutModel",
            "_view_count": null,
            "_view_module": "@jupyter-widgets/base",
            "_view_module_version": "1.2.0",
            "_view_name": "LayoutView",
            "align_content": null,
            "align_items": null,
            "align_self": null,
            "border": null,
            "bottom": null,
            "display": null,
            "flex": null,
            "flex_flow": null,
            "grid_area": null,
            "grid_auto_columns": null,
            "grid_auto_flow": null,
            "grid_auto_rows": null,
            "grid_column": null,
            "grid_gap": null,
            "grid_row": null,
            "grid_template_areas": null,
            "grid_template_columns": null,
            "grid_template_rows": null,
            "height": null,
            "justify_content": null,
            "justify_items": null,
            "left": null,
            "margin": null,
            "max_height": null,
            "max_width": null,
            "min_height": null,
            "min_width": null,
            "object_fit": null,
            "object_position": null,
            "order": null,
            "overflow": null,
            "overflow_x": null,
            "overflow_y": null,
            "padding": null,
            "right": null,
            "top": null,
            "visibility": null,
            "width": null
          }
        },
        "0d40c4dc03514eada314b8b504c021ca": {
          "model_module": "@jupyter-widgets/controls",
          "model_name": "ProgressStyleModel",
          "model_module_version": "1.5.0",
          "state": {
            "_model_module": "@jupyter-widgets/controls",
            "_model_module_version": "1.5.0",
            "_model_name": "ProgressStyleModel",
            "_view_count": null,
            "_view_module": "@jupyter-widgets/base",
            "_view_module_version": "1.2.0",
            "_view_name": "StyleView",
            "bar_color": null,
            "description_width": ""
          }
        },
        "4a714b5458ef40acafc67787eccd4d6a": {
          "model_module": "@jupyter-widgets/base",
          "model_name": "LayoutModel",
          "model_module_version": "1.2.0",
          "state": {
            "_model_module": "@jupyter-widgets/base",
            "_model_module_version": "1.2.0",
            "_model_name": "LayoutModel",
            "_view_count": null,
            "_view_module": "@jupyter-widgets/base",
            "_view_module_version": "1.2.0",
            "_view_name": "LayoutView",
            "align_content": null,
            "align_items": null,
            "align_self": null,
            "border": null,
            "bottom": null,
            "display": null,
            "flex": null,
            "flex_flow": null,
            "grid_area": null,
            "grid_auto_columns": null,
            "grid_auto_flow": null,
            "grid_auto_rows": null,
            "grid_column": null,
            "grid_gap": null,
            "grid_row": null,
            "grid_template_areas": null,
            "grid_template_columns": null,
            "grid_template_rows": null,
            "height": null,
            "justify_content": null,
            "justify_items": null,
            "left": null,
            "margin": null,
            "max_height": null,
            "max_width": null,
            "min_height": null,
            "min_width": null,
            "object_fit": null,
            "object_position": null,
            "order": null,
            "overflow": null,
            "overflow_x": null,
            "overflow_y": null,
            "padding": null,
            "right": null,
            "top": null,
            "visibility": null,
            "width": null
          }
        },
        "271a6860e6304ec89800f783e0c2fe13": {
          "model_module": "@jupyter-widgets/controls",
          "model_name": "DescriptionStyleModel",
          "model_module_version": "1.5.0",
          "state": {
            "_model_module": "@jupyter-widgets/controls",
            "_model_module_version": "1.5.0",
            "_model_name": "DescriptionStyleModel",
            "_view_count": null,
            "_view_module": "@jupyter-widgets/base",
            "_view_module_version": "1.2.0",
            "_view_name": "StyleView",
            "description_width": ""
          }
        },
        "a03ce5211085460588ba54c6b40a2b17": {
          "model_module": "@jupyter-widgets/controls",
          "model_name": "HBoxModel",
          "model_module_version": "1.5.0",
          "state": {
            "_dom_classes": [],
            "_model_module": "@jupyter-widgets/controls",
            "_model_module_version": "1.5.0",
            "_model_name": "HBoxModel",
            "_view_count": null,
            "_view_module": "@jupyter-widgets/controls",
            "_view_module_version": "1.5.0",
            "_view_name": "HBoxView",
            "box_style": "",
            "children": [
              "IPY_MODEL_b92c40a6efdd4439be3161634ba83da8",
              "IPY_MODEL_0fcbd89ab9da44de84bae83a7cfc5960",
              "IPY_MODEL_ffd208498b3149a587412eb7d6aa72a4"
            ],
            "layout": "IPY_MODEL_e8eaacb580f04f1ea23d732306955974"
          }
        },
        "b92c40a6efdd4439be3161634ba83da8": {
          "model_module": "@jupyter-widgets/controls",
          "model_name": "HTMLModel",
          "model_module_version": "1.5.0",
          "state": {
            "_dom_classes": [],
            "_model_module": "@jupyter-widgets/controls",
            "_model_module_version": "1.5.0",
            "_model_name": "HTMLModel",
            "_view_count": null,
            "_view_module": "@jupyter-widgets/controls",
            "_view_module_version": "1.5.0",
            "_view_name": "HTMLView",
            "description": "",
            "description_tooltip": null,
            "layout": "IPY_MODEL_230fb2ced2cc4a208b52c3a1abdca497",
            "placeholder": "​",
            "style": "IPY_MODEL_5048b718676040e687786ed84b6321ca",
            "value": "Downloading (…)okenizer_config.json: 100%"
          }
        },
        "0fcbd89ab9da44de84bae83a7cfc5960": {
          "model_module": "@jupyter-widgets/controls",
          "model_name": "FloatProgressModel",
          "model_module_version": "1.5.0",
          "state": {
            "_dom_classes": [],
            "_model_module": "@jupyter-widgets/controls",
            "_model_module_version": "1.5.0",
            "_model_name": "FloatProgressModel",
            "_view_count": null,
            "_view_module": "@jupyter-widgets/controls",
            "_view_module_version": "1.5.0",
            "_view_name": "ProgressView",
            "bar_style": "success",
            "description": "",
            "description_tooltip": null,
            "layout": "IPY_MODEL_8e002fe8328040349767e9ca3ea983f4",
            "max": 29,
            "min": 0,
            "orientation": "horizontal",
            "style": "IPY_MODEL_4684a56f7c124f00a7254ea34f9daae2",
            "value": 29
          }
        },
        "ffd208498b3149a587412eb7d6aa72a4": {
          "model_module": "@jupyter-widgets/controls",
          "model_name": "HTMLModel",
          "model_module_version": "1.5.0",
          "state": {
            "_dom_classes": [],
            "_model_module": "@jupyter-widgets/controls",
            "_model_module_version": "1.5.0",
            "_model_name": "HTMLModel",
            "_view_count": null,
            "_view_module": "@jupyter-widgets/controls",
            "_view_module_version": "1.5.0",
            "_view_name": "HTMLView",
            "description": "",
            "description_tooltip": null,
            "layout": "IPY_MODEL_c9b5a30ecf41400a83736dc59411ee6e",
            "placeholder": "​",
            "style": "IPY_MODEL_d88ff83de5524a2aaf9fa8921b388b9a",
            "value": " 29.0/29.0 [00:00&lt;00:00, 1.04kB/s]"
          }
        },
        "e8eaacb580f04f1ea23d732306955974": {
          "model_module": "@jupyter-widgets/base",
          "model_name": "LayoutModel",
          "model_module_version": "1.2.0",
          "state": {
            "_model_module": "@jupyter-widgets/base",
            "_model_module_version": "1.2.0",
            "_model_name": "LayoutModel",
            "_view_count": null,
            "_view_module": "@jupyter-widgets/base",
            "_view_module_version": "1.2.0",
            "_view_name": "LayoutView",
            "align_content": null,
            "align_items": null,
            "align_self": null,
            "border": null,
            "bottom": null,
            "display": null,
            "flex": null,
            "flex_flow": null,
            "grid_area": null,
            "grid_auto_columns": null,
            "grid_auto_flow": null,
            "grid_auto_rows": null,
            "grid_column": null,
            "grid_gap": null,
            "grid_row": null,
            "grid_template_areas": null,
            "grid_template_columns": null,
            "grid_template_rows": null,
            "height": null,
            "justify_content": null,
            "justify_items": null,
            "left": null,
            "margin": null,
            "max_height": null,
            "max_width": null,
            "min_height": null,
            "min_width": null,
            "object_fit": null,
            "object_position": null,
            "order": null,
            "overflow": null,
            "overflow_x": null,
            "overflow_y": null,
            "padding": null,
            "right": null,
            "top": null,
            "visibility": null,
            "width": null
          }
        },
        "230fb2ced2cc4a208b52c3a1abdca497": {
          "model_module": "@jupyter-widgets/base",
          "model_name": "LayoutModel",
          "model_module_version": "1.2.0",
          "state": {
            "_model_module": "@jupyter-widgets/base",
            "_model_module_version": "1.2.0",
            "_model_name": "LayoutModel",
            "_view_count": null,
            "_view_module": "@jupyter-widgets/base",
            "_view_module_version": "1.2.0",
            "_view_name": "LayoutView",
            "align_content": null,
            "align_items": null,
            "align_self": null,
            "border": null,
            "bottom": null,
            "display": null,
            "flex": null,
            "flex_flow": null,
            "grid_area": null,
            "grid_auto_columns": null,
            "grid_auto_flow": null,
            "grid_auto_rows": null,
            "grid_column": null,
            "grid_gap": null,
            "grid_row": null,
            "grid_template_areas": null,
            "grid_template_columns": null,
            "grid_template_rows": null,
            "height": null,
            "justify_content": null,
            "justify_items": null,
            "left": null,
            "margin": null,
            "max_height": null,
            "max_width": null,
            "min_height": null,
            "min_width": null,
            "object_fit": null,
            "object_position": null,
            "order": null,
            "overflow": null,
            "overflow_x": null,
            "overflow_y": null,
            "padding": null,
            "right": null,
            "top": null,
            "visibility": null,
            "width": null
          }
        },
        "5048b718676040e687786ed84b6321ca": {
          "model_module": "@jupyter-widgets/controls",
          "model_name": "DescriptionStyleModel",
          "model_module_version": "1.5.0",
          "state": {
            "_model_module": "@jupyter-widgets/controls",
            "_model_module_version": "1.5.0",
            "_model_name": "DescriptionStyleModel",
            "_view_count": null,
            "_view_module": "@jupyter-widgets/base",
            "_view_module_version": "1.2.0",
            "_view_name": "StyleView",
            "description_width": ""
          }
        },
        "8e002fe8328040349767e9ca3ea983f4": {
          "model_module": "@jupyter-widgets/base",
          "model_name": "LayoutModel",
          "model_module_version": "1.2.0",
          "state": {
            "_model_module": "@jupyter-widgets/base",
            "_model_module_version": "1.2.0",
            "_model_name": "LayoutModel",
            "_view_count": null,
            "_view_module": "@jupyter-widgets/base",
            "_view_module_version": "1.2.0",
            "_view_name": "LayoutView",
            "align_content": null,
            "align_items": null,
            "align_self": null,
            "border": null,
            "bottom": null,
            "display": null,
            "flex": null,
            "flex_flow": null,
            "grid_area": null,
            "grid_auto_columns": null,
            "grid_auto_flow": null,
            "grid_auto_rows": null,
            "grid_column": null,
            "grid_gap": null,
            "grid_row": null,
            "grid_template_areas": null,
            "grid_template_columns": null,
            "grid_template_rows": null,
            "height": null,
            "justify_content": null,
            "justify_items": null,
            "left": null,
            "margin": null,
            "max_height": null,
            "max_width": null,
            "min_height": null,
            "min_width": null,
            "object_fit": null,
            "object_position": null,
            "order": null,
            "overflow": null,
            "overflow_x": null,
            "overflow_y": null,
            "padding": null,
            "right": null,
            "top": null,
            "visibility": null,
            "width": null
          }
        },
        "4684a56f7c124f00a7254ea34f9daae2": {
          "model_module": "@jupyter-widgets/controls",
          "model_name": "ProgressStyleModel",
          "model_module_version": "1.5.0",
          "state": {
            "_model_module": "@jupyter-widgets/controls",
            "_model_module_version": "1.5.0",
            "_model_name": "ProgressStyleModel",
            "_view_count": null,
            "_view_module": "@jupyter-widgets/base",
            "_view_module_version": "1.2.0",
            "_view_name": "StyleView",
            "bar_color": null,
            "description_width": ""
          }
        },
        "c9b5a30ecf41400a83736dc59411ee6e": {
          "model_module": "@jupyter-widgets/base",
          "model_name": "LayoutModel",
          "model_module_version": "1.2.0",
          "state": {
            "_model_module": "@jupyter-widgets/base",
            "_model_module_version": "1.2.0",
            "_model_name": "LayoutModel",
            "_view_count": null,
            "_view_module": "@jupyter-widgets/base",
            "_view_module_version": "1.2.0",
            "_view_name": "LayoutView",
            "align_content": null,
            "align_items": null,
            "align_self": null,
            "border": null,
            "bottom": null,
            "display": null,
            "flex": null,
            "flex_flow": null,
            "grid_area": null,
            "grid_auto_columns": null,
            "grid_auto_flow": null,
            "grid_auto_rows": null,
            "grid_column": null,
            "grid_gap": null,
            "grid_row": null,
            "grid_template_areas": null,
            "grid_template_columns": null,
            "grid_template_rows": null,
            "height": null,
            "justify_content": null,
            "justify_items": null,
            "left": null,
            "margin": null,
            "max_height": null,
            "max_width": null,
            "min_height": null,
            "min_width": null,
            "object_fit": null,
            "object_position": null,
            "order": null,
            "overflow": null,
            "overflow_x": null,
            "overflow_y": null,
            "padding": null,
            "right": null,
            "top": null,
            "visibility": null,
            "width": null
          }
        },
        "d88ff83de5524a2aaf9fa8921b388b9a": {
          "model_module": "@jupyter-widgets/controls",
          "model_name": "DescriptionStyleModel",
          "model_module_version": "1.5.0",
          "state": {
            "_model_module": "@jupyter-widgets/controls",
            "_model_module_version": "1.5.0",
            "_model_name": "DescriptionStyleModel",
            "_view_count": null,
            "_view_module": "@jupyter-widgets/base",
            "_view_module_version": "1.2.0",
            "_view_name": "StyleView",
            "description_width": ""
          }
        },
        "6d7f844ca41a49c1a8eb4ed7d464a022": {
          "model_module": "@jupyter-widgets/controls",
          "model_name": "HBoxModel",
          "model_module_version": "1.5.0",
          "state": {
            "_dom_classes": [],
            "_model_module": "@jupyter-widgets/controls",
            "_model_module_version": "1.5.0",
            "_model_name": "HBoxModel",
            "_view_count": null,
            "_view_module": "@jupyter-widgets/controls",
            "_view_module_version": "1.5.0",
            "_view_name": "HBoxView",
            "box_style": "",
            "children": [
              "IPY_MODEL_d345efe2dcbb4f6882a3c25938eb9326",
              "IPY_MODEL_c43838590eff428b9a0b7efdb932b5bb",
              "IPY_MODEL_86d385faf91f46c98e007ba36539c89d"
            ],
            "layout": "IPY_MODEL_4393b0d344bd43cfa6efa5d30d843492"
          }
        },
        "d345efe2dcbb4f6882a3c25938eb9326": {
          "model_module": "@jupyter-widgets/controls",
          "model_name": "HTMLModel",
          "model_module_version": "1.5.0",
          "state": {
            "_dom_classes": [],
            "_model_module": "@jupyter-widgets/controls",
            "_model_module_version": "1.5.0",
            "_model_name": "HTMLModel",
            "_view_count": null,
            "_view_module": "@jupyter-widgets/controls",
            "_view_module_version": "1.5.0",
            "_view_name": "HTMLView",
            "description": "",
            "description_tooltip": null,
            "layout": "IPY_MODEL_e3d1d7060dd944bea7994342195c8693",
            "placeholder": "​",
            "style": "IPY_MODEL_81804721c46f4ab99f1df68d92c4f11a",
            "value": "Downloading (…)lve/main/config.json: 100%"
          }
        },
        "c43838590eff428b9a0b7efdb932b5bb": {
          "model_module": "@jupyter-widgets/controls",
          "model_name": "FloatProgressModel",
          "model_module_version": "1.5.0",
          "state": {
            "_dom_classes": [],
            "_model_module": "@jupyter-widgets/controls",
            "_model_module_version": "1.5.0",
            "_model_name": "FloatProgressModel",
            "_view_count": null,
            "_view_module": "@jupyter-widgets/controls",
            "_view_module_version": "1.5.0",
            "_view_name": "ProgressView",
            "bar_style": "success",
            "description": "",
            "description_tooltip": null,
            "layout": "IPY_MODEL_0deb2d4427d44898af3f32e9d62b676f",
            "max": 762,
            "min": 0,
            "orientation": "horizontal",
            "style": "IPY_MODEL_b22efdf6b9cc416c8bd803d98fe0602d",
            "value": 762
          }
        },
        "86d385faf91f46c98e007ba36539c89d": {
          "model_module": "@jupyter-widgets/controls",
          "model_name": "HTMLModel",
          "model_module_version": "1.5.0",
          "state": {
            "_dom_classes": [],
            "_model_module": "@jupyter-widgets/controls",
            "_model_module_version": "1.5.0",
            "_model_name": "HTMLModel",
            "_view_count": null,
            "_view_module": "@jupyter-widgets/controls",
            "_view_module_version": "1.5.0",
            "_view_name": "HTMLView",
            "description": "",
            "description_tooltip": null,
            "layout": "IPY_MODEL_088ed94f9b3a48cc83f966cf2e5e39d0",
            "placeholder": "​",
            "style": "IPY_MODEL_1401e23318ea4c4e8e2f9e0b0ef05072",
            "value": " 762/762 [00:00&lt;00:00, 38.6kB/s]"
          }
        },
        "4393b0d344bd43cfa6efa5d30d843492": {
          "model_module": "@jupyter-widgets/base",
          "model_name": "LayoutModel",
          "model_module_version": "1.2.0",
          "state": {
            "_model_module": "@jupyter-widgets/base",
            "_model_module_version": "1.2.0",
            "_model_name": "LayoutModel",
            "_view_count": null,
            "_view_module": "@jupyter-widgets/base",
            "_view_module_version": "1.2.0",
            "_view_name": "LayoutView",
            "align_content": null,
            "align_items": null,
            "align_self": null,
            "border": null,
            "bottom": null,
            "display": null,
            "flex": null,
            "flex_flow": null,
            "grid_area": null,
            "grid_auto_columns": null,
            "grid_auto_flow": null,
            "grid_auto_rows": null,
            "grid_column": null,
            "grid_gap": null,
            "grid_row": null,
            "grid_template_areas": null,
            "grid_template_columns": null,
            "grid_template_rows": null,
            "height": null,
            "justify_content": null,
            "justify_items": null,
            "left": null,
            "margin": null,
            "max_height": null,
            "max_width": null,
            "min_height": null,
            "min_width": null,
            "object_fit": null,
            "object_position": null,
            "order": null,
            "overflow": null,
            "overflow_x": null,
            "overflow_y": null,
            "padding": null,
            "right": null,
            "top": null,
            "visibility": null,
            "width": null
          }
        },
        "e3d1d7060dd944bea7994342195c8693": {
          "model_module": "@jupyter-widgets/base",
          "model_name": "LayoutModel",
          "model_module_version": "1.2.0",
          "state": {
            "_model_module": "@jupyter-widgets/base",
            "_model_module_version": "1.2.0",
            "_model_name": "LayoutModel",
            "_view_count": null,
            "_view_module": "@jupyter-widgets/base",
            "_view_module_version": "1.2.0",
            "_view_name": "LayoutView",
            "align_content": null,
            "align_items": null,
            "align_self": null,
            "border": null,
            "bottom": null,
            "display": null,
            "flex": null,
            "flex_flow": null,
            "grid_area": null,
            "grid_auto_columns": null,
            "grid_auto_flow": null,
            "grid_auto_rows": null,
            "grid_column": null,
            "grid_gap": null,
            "grid_row": null,
            "grid_template_areas": null,
            "grid_template_columns": null,
            "grid_template_rows": null,
            "height": null,
            "justify_content": null,
            "justify_items": null,
            "left": null,
            "margin": null,
            "max_height": null,
            "max_width": null,
            "min_height": null,
            "min_width": null,
            "object_fit": null,
            "object_position": null,
            "order": null,
            "overflow": null,
            "overflow_x": null,
            "overflow_y": null,
            "padding": null,
            "right": null,
            "top": null,
            "visibility": null,
            "width": null
          }
        },
        "81804721c46f4ab99f1df68d92c4f11a": {
          "model_module": "@jupyter-widgets/controls",
          "model_name": "DescriptionStyleModel",
          "model_module_version": "1.5.0",
          "state": {
            "_model_module": "@jupyter-widgets/controls",
            "_model_module_version": "1.5.0",
            "_model_name": "DescriptionStyleModel",
            "_view_count": null,
            "_view_module": "@jupyter-widgets/base",
            "_view_module_version": "1.2.0",
            "_view_name": "StyleView",
            "description_width": ""
          }
        },
        "0deb2d4427d44898af3f32e9d62b676f": {
          "model_module": "@jupyter-widgets/base",
          "model_name": "LayoutModel",
          "model_module_version": "1.2.0",
          "state": {
            "_model_module": "@jupyter-widgets/base",
            "_model_module_version": "1.2.0",
            "_model_name": "LayoutModel",
            "_view_count": null,
            "_view_module": "@jupyter-widgets/base",
            "_view_module_version": "1.2.0",
            "_view_name": "LayoutView",
            "align_content": null,
            "align_items": null,
            "align_self": null,
            "border": null,
            "bottom": null,
            "display": null,
            "flex": null,
            "flex_flow": null,
            "grid_area": null,
            "grid_auto_columns": null,
            "grid_auto_flow": null,
            "grid_auto_rows": null,
            "grid_column": null,
            "grid_gap": null,
            "grid_row": null,
            "grid_template_areas": null,
            "grid_template_columns": null,
            "grid_template_rows": null,
            "height": null,
            "justify_content": null,
            "justify_items": null,
            "left": null,
            "margin": null,
            "max_height": null,
            "max_width": null,
            "min_height": null,
            "min_width": null,
            "object_fit": null,
            "object_position": null,
            "order": null,
            "overflow": null,
            "overflow_x": null,
            "overflow_y": null,
            "padding": null,
            "right": null,
            "top": null,
            "visibility": null,
            "width": null
          }
        },
        "b22efdf6b9cc416c8bd803d98fe0602d": {
          "model_module": "@jupyter-widgets/controls",
          "model_name": "ProgressStyleModel",
          "model_module_version": "1.5.0",
          "state": {
            "_model_module": "@jupyter-widgets/controls",
            "_model_module_version": "1.5.0",
            "_model_name": "ProgressStyleModel",
            "_view_count": null,
            "_view_module": "@jupyter-widgets/base",
            "_view_module_version": "1.2.0",
            "_view_name": "StyleView",
            "bar_color": null,
            "description_width": ""
          }
        },
        "088ed94f9b3a48cc83f966cf2e5e39d0": {
          "model_module": "@jupyter-widgets/base",
          "model_name": "LayoutModel",
          "model_module_version": "1.2.0",
          "state": {
            "_model_module": "@jupyter-widgets/base",
            "_model_module_version": "1.2.0",
            "_model_name": "LayoutModel",
            "_view_count": null,
            "_view_module": "@jupyter-widgets/base",
            "_view_module_version": "1.2.0",
            "_view_name": "LayoutView",
            "align_content": null,
            "align_items": null,
            "align_self": null,
            "border": null,
            "bottom": null,
            "display": null,
            "flex": null,
            "flex_flow": null,
            "grid_area": null,
            "grid_auto_columns": null,
            "grid_auto_flow": null,
            "grid_auto_rows": null,
            "grid_column": null,
            "grid_gap": null,
            "grid_row": null,
            "grid_template_areas": null,
            "grid_template_columns": null,
            "grid_template_rows": null,
            "height": null,
            "justify_content": null,
            "justify_items": null,
            "left": null,
            "margin": null,
            "max_height": null,
            "max_width": null,
            "min_height": null,
            "min_width": null,
            "object_fit": null,
            "object_position": null,
            "order": null,
            "overflow": null,
            "overflow_x": null,
            "overflow_y": null,
            "padding": null,
            "right": null,
            "top": null,
            "visibility": null,
            "width": null
          }
        },
        "1401e23318ea4c4e8e2f9e0b0ef05072": {
          "model_module": "@jupyter-widgets/controls",
          "model_name": "DescriptionStyleModel",
          "model_module_version": "1.5.0",
          "state": {
            "_model_module": "@jupyter-widgets/controls",
            "_model_module_version": "1.5.0",
            "_model_name": "DescriptionStyleModel",
            "_view_count": null,
            "_view_module": "@jupyter-widgets/base",
            "_view_module_version": "1.2.0",
            "_view_name": "StyleView",
            "description_width": ""
          }
        },
        "461a70e8909049b3ba0800c5fdc5042e": {
          "model_module": "@jupyter-widgets/controls",
          "model_name": "HBoxModel",
          "model_module_version": "1.5.0",
          "state": {
            "_dom_classes": [],
            "_model_module": "@jupyter-widgets/controls",
            "_model_module_version": "1.5.0",
            "_model_name": "HBoxModel",
            "_view_count": null,
            "_view_module": "@jupyter-widgets/controls",
            "_view_module_version": "1.5.0",
            "_view_name": "HBoxView",
            "box_style": "",
            "children": [
              "IPY_MODEL_fa8cd4d072f14bcb90f696503caefdbc",
              "IPY_MODEL_7df4acb5a1c4492893864970b774c256",
              "IPY_MODEL_502bde80cf86470da3504f22373fef7f"
            ],
            "layout": "IPY_MODEL_c72e31274cec432f84d62da9c0789a93"
          }
        },
        "fa8cd4d072f14bcb90f696503caefdbc": {
          "model_module": "@jupyter-widgets/controls",
          "model_name": "HTMLModel",
          "model_module_version": "1.5.0",
          "state": {
            "_dom_classes": [],
            "_model_module": "@jupyter-widgets/controls",
            "_model_module_version": "1.5.0",
            "_model_name": "HTMLModel",
            "_view_count": null,
            "_view_module": "@jupyter-widgets/controls",
            "_view_module_version": "1.5.0",
            "_view_name": "HTMLView",
            "description": "",
            "description_tooltip": null,
            "layout": "IPY_MODEL_f7b0c814faad4434a7a3b25fdd754719",
            "placeholder": "​",
            "style": "IPY_MODEL_77e4244ed97044e1a40672d76df80e4f",
            "value": "Downloading tf_model.h5: 100%"
          }
        },
        "7df4acb5a1c4492893864970b774c256": {
          "model_module": "@jupyter-widgets/controls",
          "model_name": "FloatProgressModel",
          "model_module_version": "1.5.0",
          "state": {
            "_dom_classes": [],
            "_model_module": "@jupyter-widgets/controls",
            "_model_module_version": "1.5.0",
            "_model_name": "FloatProgressModel",
            "_view_count": null,
            "_view_module": "@jupyter-widgets/controls",
            "_view_module_version": "1.5.0",
            "_view_name": "ProgressView",
            "bar_style": "success",
            "description": "",
            "description_tooltip": null,
            "layout": "IPY_MODEL_4e29e2e5d60a439b9e4ba896498a378f",
            "max": 1460062736,
            "min": 0,
            "orientation": "horizontal",
            "style": "IPY_MODEL_25abe04b9660403abf09789870b15f83",
            "value": 1460062736
          }
        },
        "502bde80cf86470da3504f22373fef7f": {
          "model_module": "@jupyter-widgets/controls",
          "model_name": "HTMLModel",
          "model_module_version": "1.5.0",
          "state": {
            "_dom_classes": [],
            "_model_module": "@jupyter-widgets/controls",
            "_model_module_version": "1.5.0",
            "_model_name": "HTMLModel",
            "_view_count": null,
            "_view_module": "@jupyter-widgets/controls",
            "_view_module_version": "1.5.0",
            "_view_name": "HTMLView",
            "description": "",
            "description_tooltip": null,
            "layout": "IPY_MODEL_f15621274ae045f2a103e69ed0b5ecea",
            "placeholder": "​",
            "style": "IPY_MODEL_8c0a2ec50ced4eac8fa5b24a078d4fd0",
            "value": " 1.46G/1.46G [00:35&lt;00:00, 45.3MB/s]"
          }
        },
        "c72e31274cec432f84d62da9c0789a93": {
          "model_module": "@jupyter-widgets/base",
          "model_name": "LayoutModel",
          "model_module_version": "1.2.0",
          "state": {
            "_model_module": "@jupyter-widgets/base",
            "_model_module_version": "1.2.0",
            "_model_name": "LayoutModel",
            "_view_count": null,
            "_view_module": "@jupyter-widgets/base",
            "_view_module_version": "1.2.0",
            "_view_name": "LayoutView",
            "align_content": null,
            "align_items": null,
            "align_self": null,
            "border": null,
            "bottom": null,
            "display": null,
            "flex": null,
            "flex_flow": null,
            "grid_area": null,
            "grid_auto_columns": null,
            "grid_auto_flow": null,
            "grid_auto_rows": null,
            "grid_column": null,
            "grid_gap": null,
            "grid_row": null,
            "grid_template_areas": null,
            "grid_template_columns": null,
            "grid_template_rows": null,
            "height": null,
            "justify_content": null,
            "justify_items": null,
            "left": null,
            "margin": null,
            "max_height": null,
            "max_width": null,
            "min_height": null,
            "min_width": null,
            "object_fit": null,
            "object_position": null,
            "order": null,
            "overflow": null,
            "overflow_x": null,
            "overflow_y": null,
            "padding": null,
            "right": null,
            "top": null,
            "visibility": null,
            "width": null
          }
        },
        "f7b0c814faad4434a7a3b25fdd754719": {
          "model_module": "@jupyter-widgets/base",
          "model_name": "LayoutModel",
          "model_module_version": "1.2.0",
          "state": {
            "_model_module": "@jupyter-widgets/base",
            "_model_module_version": "1.2.0",
            "_model_name": "LayoutModel",
            "_view_count": null,
            "_view_module": "@jupyter-widgets/base",
            "_view_module_version": "1.2.0",
            "_view_name": "LayoutView",
            "align_content": null,
            "align_items": null,
            "align_self": null,
            "border": null,
            "bottom": null,
            "display": null,
            "flex": null,
            "flex_flow": null,
            "grid_area": null,
            "grid_auto_columns": null,
            "grid_auto_flow": null,
            "grid_auto_rows": null,
            "grid_column": null,
            "grid_gap": null,
            "grid_row": null,
            "grid_template_areas": null,
            "grid_template_columns": null,
            "grid_template_rows": null,
            "height": null,
            "justify_content": null,
            "justify_items": null,
            "left": null,
            "margin": null,
            "max_height": null,
            "max_width": null,
            "min_height": null,
            "min_width": null,
            "object_fit": null,
            "object_position": null,
            "order": null,
            "overflow": null,
            "overflow_x": null,
            "overflow_y": null,
            "padding": null,
            "right": null,
            "top": null,
            "visibility": null,
            "width": null
          }
        },
        "77e4244ed97044e1a40672d76df80e4f": {
          "model_module": "@jupyter-widgets/controls",
          "model_name": "DescriptionStyleModel",
          "model_module_version": "1.5.0",
          "state": {
            "_model_module": "@jupyter-widgets/controls",
            "_model_module_version": "1.5.0",
            "_model_name": "DescriptionStyleModel",
            "_view_count": null,
            "_view_module": "@jupyter-widgets/base",
            "_view_module_version": "1.2.0",
            "_view_name": "StyleView",
            "description_width": ""
          }
        },
        "4e29e2e5d60a439b9e4ba896498a378f": {
          "model_module": "@jupyter-widgets/base",
          "model_name": "LayoutModel",
          "model_module_version": "1.2.0",
          "state": {
            "_model_module": "@jupyter-widgets/base",
            "_model_module_version": "1.2.0",
            "_model_name": "LayoutModel",
            "_view_count": null,
            "_view_module": "@jupyter-widgets/base",
            "_view_module_version": "1.2.0",
            "_view_name": "LayoutView",
            "align_content": null,
            "align_items": null,
            "align_self": null,
            "border": null,
            "bottom": null,
            "display": null,
            "flex": null,
            "flex_flow": null,
            "grid_area": null,
            "grid_auto_columns": null,
            "grid_auto_flow": null,
            "grid_auto_rows": null,
            "grid_column": null,
            "grid_gap": null,
            "grid_row": null,
            "grid_template_areas": null,
            "grid_template_columns": null,
            "grid_template_rows": null,
            "height": null,
            "justify_content": null,
            "justify_items": null,
            "left": null,
            "margin": null,
            "max_height": null,
            "max_width": null,
            "min_height": null,
            "min_width": null,
            "object_fit": null,
            "object_position": null,
            "order": null,
            "overflow": null,
            "overflow_x": null,
            "overflow_y": null,
            "padding": null,
            "right": null,
            "top": null,
            "visibility": null,
            "width": null
          }
        },
        "25abe04b9660403abf09789870b15f83": {
          "model_module": "@jupyter-widgets/controls",
          "model_name": "ProgressStyleModel",
          "model_module_version": "1.5.0",
          "state": {
            "_model_module": "@jupyter-widgets/controls",
            "_model_module_version": "1.5.0",
            "_model_name": "ProgressStyleModel",
            "_view_count": null,
            "_view_module": "@jupyter-widgets/base",
            "_view_module_version": "1.2.0",
            "_view_name": "StyleView",
            "bar_color": null,
            "description_width": ""
          }
        },
        "f15621274ae045f2a103e69ed0b5ecea": {
          "model_module": "@jupyter-widgets/base",
          "model_name": "LayoutModel",
          "model_module_version": "1.2.0",
          "state": {
            "_model_module": "@jupyter-widgets/base",
            "_model_module_version": "1.2.0",
            "_model_name": "LayoutModel",
            "_view_count": null,
            "_view_module": "@jupyter-widgets/base",
            "_view_module_version": "1.2.0",
            "_view_name": "LayoutView",
            "align_content": null,
            "align_items": null,
            "align_self": null,
            "border": null,
            "bottom": null,
            "display": null,
            "flex": null,
            "flex_flow": null,
            "grid_area": null,
            "grid_auto_columns": null,
            "grid_auto_flow": null,
            "grid_auto_rows": null,
            "grid_column": null,
            "grid_gap": null,
            "grid_row": null,
            "grid_template_areas": null,
            "grid_template_columns": null,
            "grid_template_rows": null,
            "height": null,
            "justify_content": null,
            "justify_items": null,
            "left": null,
            "margin": null,
            "max_height": null,
            "max_width": null,
            "min_height": null,
            "min_width": null,
            "object_fit": null,
            "object_position": null,
            "order": null,
            "overflow": null,
            "overflow_x": null,
            "overflow_y": null,
            "padding": null,
            "right": null,
            "top": null,
            "visibility": null,
            "width": null
          }
        },
        "8c0a2ec50ced4eac8fa5b24a078d4fd0": {
          "model_module": "@jupyter-widgets/controls",
          "model_name": "DescriptionStyleModel",
          "model_module_version": "1.5.0",
          "state": {
            "_model_module": "@jupyter-widgets/controls",
            "_model_module_version": "1.5.0",
            "_model_name": "DescriptionStyleModel",
            "_view_count": null,
            "_view_module": "@jupyter-widgets/base",
            "_view_module_version": "1.2.0",
            "_view_name": "StyleView",
            "description_width": ""
          }
        }
      }
    }
  },
  "cells": [
    {
      "cell_type": "code",
      "source": [
        "from google.colab import drive\n",
        "drive.mount('/content/drive')"
      ],
      "metadata": {
        "id": "SMqu_9JfJFFl",
        "colab": {
          "base_uri": "https://localhost:8080/"
        },
        "outputId": "e356c28a-ba6d-48fc-8874-03352037ce27"
      },
      "execution_count": null,
      "outputs": [
        {
          "output_type": "stream",
          "name": "stdout",
          "text": [
            "Mounted at /content/drive\n"
          ]
        }
      ]
    },
    {
      "cell_type": "code",
      "source": [
        "! cp drive/MyDrive/IR_Project/cwishareddataset/traindevset/english/News_Train.tsv .\n",
        "! cp drive/MyDrive/IR_Project/cwishareddataset/testset/english/News_Test.tsv .\n",
        "! cp -r drive/MyDrive/IR_Project/cwishareddataset/traindevset/ .\n",
        "! cp -r drive/MyDrive/IR_Project/cwishareddataset/testset/ ."
      ],
      "metadata": {
        "id": "n2HuONiMKPcL"
      },
      "execution_count": null,
      "outputs": []
    },
    {
      "cell_type": "code",
      "source": [
        "import nltk\n",
        "nltk.download('stopwords')\n",
        "nltk.download('wordnet')\n",
        "nltk.download('omw-1.4')"
      ],
      "metadata": {
        "id": "RaoObv8TPDg9",
        "colab": {
          "base_uri": "https://localhost:8080/"
        },
        "outputId": "f43b8a2d-80e7-42db-a5d3-483866c6e4a9"
      },
      "execution_count": null,
      "outputs": [
        {
          "output_type": "stream",
          "name": "stderr",
          "text": [
            "[nltk_data] Downloading package stopwords to /root/nltk_data...\n",
            "[nltk_data]   Unzipping corpora/stopwords.zip.\n",
            "[nltk_data] Downloading package wordnet to /root/nltk_data...\n",
            "[nltk_data] Downloading package omw-1.4 to /root/nltk_data...\n"
          ]
        },
        {
          "output_type": "execute_result",
          "data": {
            "text/plain": [
              "True"
            ]
          },
          "metadata": {},
          "execution_count": 3
        }
      ]
    },
    {
      "cell_type": "code",
      "source": [
        "word_label_dict = {}\n",
        "seen_dict = {}"
      ],
      "metadata": {
        "id": "oLCDHF_fXlp6"
      },
      "execution_count": null,
      "outputs": []
    },
    {
      "cell_type": "code",
      "source": [
        "import pandas as pd\n",
        "import numpy as np\n",
        "import string\n",
        "from nltk.corpus import stopwords\n",
        "from nltk.tokenize import WordPunctTokenizer\n",
        "from nltk.stem.wordnet import WordNetLemmatizer\n",
        "def process_input(text):\n",
        "  text = text.lower()\n",
        "  sen_tok_list = []\n",
        "  wpt = WordPunctTokenizer()\n",
        "  sen_tok = wpt.tokenize(text)\n",
        "  sen_tok_list.append(sen_tok)\n",
        "  final_word_list = []\n",
        "  wnlem = WordNetLemmatizer()\n",
        "  for i in range(len(sen_tok_list)):\n",
        "    for j in range(len(sen_tok_list[i])):\n",
        "      sen_tok_list[i][j] = wnlem.lemmatize(sen_tok_list[i][j])\n",
        "  for i in range(len(sen_tok_list)):\n",
        "    temp_word_list = []\n",
        "    for j in range(len(sen_tok_list[i])):\n",
        "      if sen_tok_list[i][j].isalpha() == True and sen_tok_list[i][j].isnumeric() == False:\n",
        "        temp_word_list.append(sen_tok_list[i][j])\n",
        "    final_word_list.append(temp_word_list)\n",
        "  return final_word_list"
      ],
      "metadata": {
        "id": "G1aDkYhGaNyL"
      },
      "execution_count": null,
      "outputs": []
    },
    {
      "cell_type": "code",
      "source": [
        "import pandas as pd\n",
        "import numpy as np\n",
        "import string\n",
        "from nltk.tokenize import WordPunctTokenizer\n",
        "from nltk.stem.wordnet import WordNetLemmatizer\n",
        "def generate_final_word_list(file_path):\n",
        "  dataframe = pd.read_csv(file_path,sep = '\\t',header = None,names = [\"ID\",\"Sentence\",\"complex_phrase_start_index\",\"complex_phrase_end_index\",\"Complex_phrase\",\"num_native\",\"num_n_native\",\"native_complex\",\"non-native complex\",\"Binary values\",\"probability values\"])\n",
        "  dataframe[\"Sentence\"] = dataframe[\"Sentence\"].apply(lambda x : x.lower())\n",
        "  dataframe[\"Complex_phrase\"] = dataframe[\"Complex_phrase\"].apply(lambda x : x.lower())\n",
        "  dataframe[\"Num_words\"] = dataframe[\"Complex_phrase\"].apply(lambda x : len(x.split()))\n",
        "  dataframe = dataframe[dataframe[\"Num_words\"] == 1]\n",
        "  sentences_list = np.array(dataframe[\"Sentence\"])\n",
        "  labels = np.array(dataframe[\"Binary values\"])\n",
        "  complex_words = np.array(dataframe[\"Complex_phrase\"])\n",
        "  complex_word_dict = {complex_words[i]: labels[i] for i in range(len(labels))}\n",
        "  sen_tok_list = []\n",
        "  wpt = WordPunctTokenizer()\n",
        "  for sentence in sentences_list:\n",
        "    sen_tok = wpt.tokenize(sentence)\n",
        "    sen_tok_list.append(sen_tok)\n",
        "  wnlem = WordNetLemmatizer()\n",
        "  for i in range(len(sen_tok_list)):\n",
        "    for j in range(len(sen_tok_list[i])):\n",
        "      sen_tok_list[i][j] = wnlem.lemmatize(sen_tok_list[i][j])\n",
        "  final_word_list = []\n",
        "  for i in range(len(sen_tok_list)):\n",
        "    temp_word_list = []\n",
        "    for j in range(len(sen_tok_list[i])):\n",
        "      if sen_tok_list[i][j].isalpha() == True and sen_tok_list[i][j].isnumeric() == False:\n",
        "        temp_word_list.append(sen_tok_list[i][j])\n",
        "    final_word_list.append(temp_word_list)\n",
        "  for sentence in final_word_list:\n",
        "    for word in sentence:\n",
        "      if word not in seen_dict:\n",
        "        seen_dict[word] = 1\n",
        "        if word not in complex_word_dict:\n",
        "          word_label_dict[word] = 0\n",
        "        else:\n",
        "          word_label_dict[word] = complex_word_dict[word]"
      ],
      "metadata": {
        "id": "RxZyi0s9Pqpl"
      },
      "execution_count": null,
      "outputs": []
    },
    {
      "cell_type": "code",
      "source": [
        "len(word_label_dict)"
      ],
      "metadata": {
        "colab": {
          "base_uri": "https://localhost:8080/"
        },
        "id": "qhvKrIj6RTme",
        "outputId": "f59a5bab-2af2-4d23-e8ee-a8773245d70c"
      },
      "execution_count": null,
      "outputs": [
        {
          "output_type": "execute_result",
          "data": {
            "text/plain": [
              "0"
            ]
          },
          "metadata": {},
          "execution_count": 7
        }
      ]
    },
    {
      "cell_type": "code",
      "source": [
        "generate_final_word_list(\"News_Train.tsv\")\n",
        "generate_final_word_list(\"traindevset/english/WikiNews_Train.tsv\")\n",
        "generate_final_word_list(\"traindevset/english/Wikipedia_Train.tsv\")"
      ],
      "metadata": {
        "id": "7DmoffanRdFv"
      },
      "execution_count": null,
      "outputs": []
    },
    {
      "cell_type": "code",
      "source": [
        "from nltk.stem.wordnet import WordNetLemmatizer\n",
        "import string\n",
        "wnlem = WordNetLemmatizer()\n",
        "def complex_word_check(word):\n",
        "  if(word in string.punctuation):\n",
        "    return False\n",
        "  word = wnlem.lemmatize(word)\n",
        "  if word in word_label_dict:\n",
        "    return word_label_dict[word]\n",
        "  else:\n",
        "    return False"
      ],
      "metadata": {
        "id": "ui6VkmUXZUO1"
      },
      "execution_count": null,
      "outputs": []
    },
    {
      "cell_type": "code",
      "source": [
        "!pip install transformers"
      ],
      "metadata": {
        "id": "eGKIprYJoyQ6",
        "colab": {
          "base_uri": "https://localhost:8080/"
        },
        "outputId": "c287c194-3397-4c07-ae05-c9f92350ac1c"
      },
      "execution_count": null,
      "outputs": [
        {
          "output_type": "stream",
          "name": "stdout",
          "text": [
            "Looking in indexes: https://pypi.org/simple, https://us-python.pkg.dev/colab-wheels/public/simple/\n",
            "Collecting transformers\n",
            "  Downloading transformers-4.26.1-py3-none-any.whl (6.3 MB)\n",
            "\u001b[2K     \u001b[90m━━━━━━━━━━━━━━━━━━━━━━━━━━━━━━━━━━━━━━━━\u001b[0m \u001b[32m6.3/6.3 MB\u001b[0m \u001b[31m54.4 MB/s\u001b[0m eta \u001b[36m0:00:00\u001b[0m\n",
            "\u001b[?25hCollecting tokenizers!=0.11.3,<0.14,>=0.11.1\n",
            "  Downloading tokenizers-0.13.2-cp39-cp39-manylinux_2_17_x86_64.manylinux2014_x86_64.whl (7.6 MB)\n",
            "\u001b[2K     \u001b[90m━━━━━━━━━━━━━━━━━━━━━━━━━━━━━━━━━━━━━━━━\u001b[0m \u001b[32m7.6/7.6 MB\u001b[0m \u001b[31m77.8 MB/s\u001b[0m eta \u001b[36m0:00:00\u001b[0m\n",
            "\u001b[?25hRequirement already satisfied: filelock in /usr/local/lib/python3.9/dist-packages (from transformers) (3.9.0)\n",
            "Requirement already satisfied: regex!=2019.12.17 in /usr/local/lib/python3.9/dist-packages (from transformers) (2022.6.2)\n",
            "Requirement already satisfied: tqdm>=4.27 in /usr/local/lib/python3.9/dist-packages (from transformers) (4.65.0)\n",
            "Requirement already satisfied: pyyaml>=5.1 in /usr/local/lib/python3.9/dist-packages (from transformers) (6.0)\n",
            "Requirement already satisfied: numpy>=1.17 in /usr/local/lib/python3.9/dist-packages (from transformers) (1.22.4)\n",
            "Requirement already satisfied: packaging>=20.0 in /usr/local/lib/python3.9/dist-packages (from transformers) (23.0)\n",
            "Collecting huggingface-hub<1.0,>=0.11.0\n",
            "  Downloading huggingface_hub-0.13.1-py3-none-any.whl (199 kB)\n",
            "\u001b[2K     \u001b[90m━━━━━━━━━━━━━━━━━━━━━━━━━━━━━━━━━━━━━━\u001b[0m \u001b[32m199.2/199.2 KB\u001b[0m \u001b[31m20.3 MB/s\u001b[0m eta \u001b[36m0:00:00\u001b[0m\n",
            "\u001b[?25hRequirement already satisfied: requests in /usr/local/lib/python3.9/dist-packages (from transformers) (2.25.1)\n",
            "Requirement already satisfied: typing-extensions>=3.7.4.3 in /usr/local/lib/python3.9/dist-packages (from huggingface-hub<1.0,>=0.11.0->transformers) (4.5.0)\n",
            "Requirement already satisfied: idna<3,>=2.5 in /usr/local/lib/python3.9/dist-packages (from requests->transformers) (2.10)\n",
            "Requirement already satisfied: urllib3<1.27,>=1.21.1 in /usr/local/lib/python3.9/dist-packages (from requests->transformers) (1.26.14)\n",
            "Requirement already satisfied: chardet<5,>=3.0.2 in /usr/local/lib/python3.9/dist-packages (from requests->transformers) (4.0.0)\n",
            "Requirement already satisfied: certifi>=2017.4.17 in /usr/local/lib/python3.9/dist-packages (from requests->transformers) (2022.12.7)\n",
            "Installing collected packages: tokenizers, huggingface-hub, transformers\n",
            "Successfully installed huggingface-hub-0.13.1 tokenizers-0.13.2 transformers-4.26.1\n"
          ]
        }
      ]
    },
    {
      "cell_type": "code",
      "source": [
        "import torch\n",
        "import numpy as np\n",
        "import tensorflow as tf\n",
        "from transformers import BertTokenizer, TFBertForMaskedLM\n",
        "\n",
        "tokenizer = BertTokenizer.from_pretrained('bert-large-cased')\n",
        "model = TFBertForMaskedLM.from_pretrained('bert-large-cased')\n"
      ],
      "metadata": {
        "id": "pUXnncn1IOW-",
        "colab": {
          "base_uri": "https://localhost:8080/",
          "height": 214,
          "referenced_widgets": [
            "1e742d061629406288bb787dce9205d8",
            "ef4ecb6706c64521a1699787536cfe25",
            "e8ef214e73624311bd64714df73416b8",
            "2722fd367f1247a6a89003fef3d6dd95",
            "6cf7b66e764e463eb74e24cb91b9b2b5",
            "65fc1087aa9240beb1bceda6483549a6",
            "f8b6a1ec696b4419894286dc991d9edd",
            "3499361bbc6d4327a8f85e48c74caa1f",
            "0d40c4dc03514eada314b8b504c021ca",
            "4a714b5458ef40acafc67787eccd4d6a",
            "271a6860e6304ec89800f783e0c2fe13",
            "a03ce5211085460588ba54c6b40a2b17",
            "b92c40a6efdd4439be3161634ba83da8",
            "0fcbd89ab9da44de84bae83a7cfc5960",
            "ffd208498b3149a587412eb7d6aa72a4",
            "e8eaacb580f04f1ea23d732306955974",
            "230fb2ced2cc4a208b52c3a1abdca497",
            "5048b718676040e687786ed84b6321ca",
            "8e002fe8328040349767e9ca3ea983f4",
            "4684a56f7c124f00a7254ea34f9daae2",
            "c9b5a30ecf41400a83736dc59411ee6e",
            "d88ff83de5524a2aaf9fa8921b388b9a",
            "6d7f844ca41a49c1a8eb4ed7d464a022",
            "d345efe2dcbb4f6882a3c25938eb9326",
            "c43838590eff428b9a0b7efdb932b5bb",
            "86d385faf91f46c98e007ba36539c89d",
            "4393b0d344bd43cfa6efa5d30d843492",
            "e3d1d7060dd944bea7994342195c8693",
            "81804721c46f4ab99f1df68d92c4f11a",
            "0deb2d4427d44898af3f32e9d62b676f",
            "b22efdf6b9cc416c8bd803d98fe0602d",
            "088ed94f9b3a48cc83f966cf2e5e39d0",
            "1401e23318ea4c4e8e2f9e0b0ef05072",
            "461a70e8909049b3ba0800c5fdc5042e",
            "fa8cd4d072f14bcb90f696503caefdbc",
            "7df4acb5a1c4492893864970b774c256",
            "502bde80cf86470da3504f22373fef7f",
            "c72e31274cec432f84d62da9c0789a93",
            "f7b0c814faad4434a7a3b25fdd754719",
            "77e4244ed97044e1a40672d76df80e4f",
            "4e29e2e5d60a439b9e4ba896498a378f",
            "25abe04b9660403abf09789870b15f83",
            "f15621274ae045f2a103e69ed0b5ecea",
            "8c0a2ec50ced4eac8fa5b24a078d4fd0"
          ]
        },
        "outputId": "8db278c2-d50b-415d-ba5f-e132b0395606"
      },
      "execution_count": null,
      "outputs": [
        {
          "output_type": "display_data",
          "data": {
            "text/plain": [
              "Downloading (…)solve/main/vocab.txt:   0%|          | 0.00/213k [00:00<?, ?B/s]"
            ],
            "application/vnd.jupyter.widget-view+json": {
              "version_major": 2,
              "version_minor": 0,
              "model_id": "1e742d061629406288bb787dce9205d8"
            }
          },
          "metadata": {}
        },
        {
          "output_type": "display_data",
          "data": {
            "text/plain": [
              "Downloading (…)okenizer_config.json:   0%|          | 0.00/29.0 [00:00<?, ?B/s]"
            ],
            "application/vnd.jupyter.widget-view+json": {
              "version_major": 2,
              "version_minor": 0,
              "model_id": "a03ce5211085460588ba54c6b40a2b17"
            }
          },
          "metadata": {}
        },
        {
          "output_type": "display_data",
          "data": {
            "text/plain": [
              "Downloading (…)lve/main/config.json:   0%|          | 0.00/762 [00:00<?, ?B/s]"
            ],
            "application/vnd.jupyter.widget-view+json": {
              "version_major": 2,
              "version_minor": 0,
              "model_id": "6d7f844ca41a49c1a8eb4ed7d464a022"
            }
          },
          "metadata": {}
        },
        {
          "output_type": "display_data",
          "data": {
            "text/plain": [
              "Downloading tf_model.h5:   0%|          | 0.00/1.46G [00:00<?, ?B/s]"
            ],
            "application/vnd.jupyter.widget-view+json": {
              "version_major": 2,
              "version_minor": 0,
              "model_id": "461a70e8909049b3ba0800c5fdc5042e"
            }
          },
          "metadata": {}
        },
        {
          "output_type": "stream",
          "name": "stderr",
          "text": [
            "All model checkpoint layers were used when initializing TFBertForMaskedLM.\n",
            "\n",
            "All the layers of TFBertForMaskedLM were initialized from the model checkpoint at bert-large-cased.\n",
            "If your task is similar to the task the model of the checkpoint was trained on, you can already use TFBertForMaskedLM for predictions without further training.\n"
          ]
        }
      ]
    },
    {
      "cell_type": "code",
      "source": [
        "!pip install wordfreq"
      ],
      "metadata": {
        "colab": {
          "base_uri": "https://localhost:8080/"
        },
        "id": "oFE0auQTXPuG",
        "outputId": "7f814809-acbe-4ea5-cc34-9f312ae2a018"
      },
      "execution_count": null,
      "outputs": [
        {
          "output_type": "stream",
          "name": "stdout",
          "text": [
            "Looking in indexes: https://pypi.org/simple, https://us-python.pkg.dev/colab-wheels/public/simple/\n",
            "Collecting wordfreq\n",
            "  Downloading wordfreq-3.0.3-py3-none-any.whl (56.8 MB)\n",
            "\u001b[2K     \u001b[90m━━━━━━━━━━━━━━━━━━━━━━━━━━━━━━━━━━━━━━━━\u001b[0m \u001b[32m56.8/56.8 MB\u001b[0m \u001b[31m12.9 MB/s\u001b[0m eta \u001b[36m0:00:00\u001b[0m\n",
            "\u001b[?25hRequirement already satisfied: regex>=2021.7.6 in /usr/local/lib/python3.9/dist-packages (from wordfreq) (2022.6.2)\n",
            "Collecting ftfy>=6.1\n",
            "  Downloading ftfy-6.1.1-py3-none-any.whl (53 kB)\n",
            "\u001b[2K     \u001b[90m━━━━━━━━━━━━━━━━━━━━━━━━━━━━━━━━━━━━━━━━\u001b[0m \u001b[32m53.1/53.1 KB\u001b[0m \u001b[31m6.0 MB/s\u001b[0m eta \u001b[36m0:00:00\u001b[0m\n",
            "\u001b[?25hRequirement already satisfied: msgpack>=1.0 in /usr/local/lib/python3.9/dist-packages (from wordfreq) (1.0.4)\n",
            "Requirement already satisfied: langcodes>=3.0 in /usr/local/lib/python3.9/dist-packages (from wordfreq) (3.3.0)\n",
            "Requirement already satisfied: wcwidth>=0.2.5 in /usr/local/lib/python3.9/dist-packages (from ftfy>=6.1->wordfreq) (0.2.6)\n",
            "Installing collected packages: ftfy, wordfreq\n",
            "Successfully installed ftfy-6.1.1 wordfreq-3.0.3\n"
          ]
        }
      ]
    },
    {
      "cell_type": "code",
      "source": [
        "def get_top_k_predictions(input_string, k=5, tokenizer=tokenizer, model=model) -> str:\n",
        "\n",
        "    tokenized_inputs = tokenizer(input_string, return_tensors=\"tf\")\n",
        "    outputs = model(tokenized_inputs[\"input_ids\"])\n",
        "\n",
        "    top_k_indices = tf.math.top_k(outputs.logits, k).indices[0].numpy()\n",
        "    decoded_output = tokenizer.batch_decode(top_k_indices)\n",
        "    mask_token = tokenizer.encode(tokenizer.mask_token)[1:-1]\n",
        "    mask_index = np.where(tokenized_inputs['input_ids'].numpy()[0]==mask_token)[0][0]\n",
        "\n",
        "    decoded_output_words = decoded_output[mask_index]\n",
        "\n",
        "    return decoded_output_words   "
      ],
      "metadata": {
        "id": "pU-98TKiXTnL"
      },
      "execution_count": null,
      "outputs": []
    },
    {
      "cell_type": "code",
      "source": [
        "from wordfreq import zipf_frequency\n",
        "def simplify_sentence(text):\n",
        "  text = text.lower()\n",
        "  wpt = WordPunctTokenizer()\n",
        "  tokens = wpt.tokenize(text)\n",
        "  complex_words = []\n",
        "  index_of_complex_word = []\n",
        "  for i in range(len(tokens)):\n",
        "    if(complex_word_check(tokens[i]) == True):\n",
        "      complex_words.append(tokens[i])\n",
        "      index_of_complex_word.append(i)\n",
        "  for j in range(len(complex_words)):\n",
        "    encoded_text = tokenizer.encode(text, add_special_tokens=True)\n",
        "    complex_word_index = encoded_text.index(tokenizer.convert_tokens_to_ids(complex_words[j]))\n",
        "    encoded_text[complex_word_index] = tokenizer.mask_token_id\n",
        "    text_with_mask = tokenizer.decode(encoded_text)\n",
        "    predictedWords = get_top_k_predictions(input_string = text_with_mask)\n",
        "    predictedWords = predictedWords.split()\n",
        "    # print(predictedWords)\n",
        "    max = -1000000\n",
        "    word = ''\n",
        "    for i in range(len(predictedWords)):\n",
        "      temp = zipf_frequency(predictedWords[i], 'en') * (len(predictedWords) - i/2)\n",
        "      if temp>max:\n",
        "        max = temp\n",
        "        word = predictedWords[i]\n",
        "    tokens[index_of_complex_word[j]] = word\n",
        "  sentence = \"\"\n",
        "  for token in tokens:\n",
        "    sentence += token + \" \"\n",
        "  return sentence"
      ],
      "metadata": {
        "id": "AkJn4aoCXXyj"
      },
      "execution_count": null,
      "outputs": []
    },
    {
      "cell_type": "code",
      "source": [
        "from nltk.tokenize import WordPunctTokenizer\n",
        "text1 = 'Ebola is a fatal and deadly virus'\n",
        "text2 = \"Water is a vital resource.\"\n",
        "text3 = 'The door to his residence was locked'\n",
        "print(\"Original text is: {} \\nSimplified text is: {}\".format(text1,simplify_sentence(text1)))\n",
        "print(\"Original text is: {} \\nSimplified text is: {}\".format(text3,simplify_sentence(text3)))\n",
        "print(\"Original text is: {} \\nSimplified text is: {}\".format(text2,simplify_sentence(text2)))"
      ],
      "metadata": {
        "id": "yoXd-YckpNd5",
        "colab": {
          "base_uri": "https://localhost:8080/"
        },
        "outputId": "a4160044-9867-43fb-8d58-3cdbdfb8b86b"
      },
      "execution_count": null,
      "outputs": [
        {
          "output_type": "stream",
          "name": "stdout",
          "text": [
            "Original text is: Ebola is a fatal and deadly virus \n",
            "Simplified text is: ebola is a rare and deadly disease! \n",
            "Original text is: The door to his residence was locked \n",
            "Simplified text is: the door to his room was locked \n",
            "Original text is: Water is a vital resource. \n",
            "Simplified text is: water is a natural resource . \n"
          ]
        }
      ]
    },
    {
      "cell_type": "code",
      "source": [
        "# for input_text in list_texts:\n",
        "#   new_text = input_text\n",
        "#   input_padded, index_list, len_list = process_input(input_text)\n",
        "#   pred_cwi = model_cwi.predict(input_padded)\n",
        "#   pred_cwi_binary = np.argmax(pred_cwi, axis = 2)\n",
        "#   complete_cwi_predictions = complete_missing_word(pred_cwi_binary, index_list, len_list)\n",
        "#   bert_candidates =   get_bert_candidates(input_text, complete_cwi_predictions)\n",
        "#   for word_to_replace, l_candidates in bert_candidates:\n",
        "#     tuples_word_zipf = []\n",
        "#     for w in l_candidates:\n",
        "#       if w.isalpha():\n",
        "#         tuples_word_zipf.append((w, zipf_frequency(w, 'en')))\n",
        "#     tuples_word_zipf = sorted(tuples_word_zipf, key = lambda x: x[1], reverse=True)\n",
        "#     new_text = re.sub(word_to_replace, tuples_word_zipf[0][0], new_text) \n",
        "#   print(\"Original text: \", input_text )\n",
        "#   print(\"Simplified text:\", new_text, \"\\n\")"
      ],
      "metadata": {
        "id": "6Ro8GRNRNeGg"
      },
      "execution_count": null,
      "outputs": []
    },
    {
      "cell_type": "code",
      "source": [
        "# train_dataframe = pd.read_csv(\"News_Train.tsv\",sep = '\\t',header = None,names = [\"ID\",\"Sentence\",\"complex_phrase_start_index\",\"complex_phrase_end_index\",\"Complex_phrase\",\"num_native\",\"num_n_native\",\"native_complex\",\"non-native complex\",\"Binary values\",\"probability values\"])\n",
        "# test_dataframe = pd.read_csv(\"News_Test.tsv\",sep = '\\t',header = None,names = [\"ID\",\"Sentence\",\"complex_phrase_start_index\",\"complex_phrase_end_index\",\"Complex_phrase\",\"num_native\",\"num_n_native\",\"native_complex\",\"non-native complex\",\"Binary values\",\"probability values\"])\n",
        "# train_dataframe[\"Sentence\"] = train_dataframe[\"Sentence\"].apply(lambda x : x.lower())\n",
        "# test_dataframe[\"Sentence\"]= test_dataframe[\"Sentence\"].apply(lambda x : x.lower())\n",
        "# train_dataframe[\"Complex_phrase\"] = train_dataframe[\"Complex_phrase\"].apply(lambda x : x.lower())\n",
        "# test_dataframe[\"Complex_phrase\"] = test_dataframe[\"Complex_phrase\"].apply(lambda x : x.lower())\n",
        "# train_dataframe[\"Num_words\"] = train_dataframe[\"Complex_phrase\"].apply(lambda x : len(x.split()))\n",
        "# test_dataframe[\"Num_words\"] = test_dataframe[\"Complex_phrase\"].apply(lambda x : len(x.split()))\n",
        "# train_dataframe = train_dataframe[train_dataframe[\"Num_words\"] == 1]\n",
        "# test_dataframe = test_dataframe[test_dataframe[\"Num_words\"] == 1]"
      ],
      "metadata": {
        "id": "2SCzQmNDZzcP"
      },
      "execution_count": null,
      "outputs": []
    },
    {
      "cell_type": "code",
      "source": [
        "# import numpy as np\n",
        "# import string\n",
        "# from nltk.corpus import stopwords\n",
        "# vocab_dict = {}\n",
        "# sentences_list = np.array(train_dataframe[\"Sentence\"])\n",
        "# labels = np.array(train_dataframe[\"Binary values\"])\n",
        "# complex_words = np.array(train_dataframe[\"Complex_phrase\"])\n",
        "# complex_word_dict = {complex_words[i]: labels[i] for i in range(len(labels))}\n",
        "# from nltk.tokenize import WordPunctTokenizer\n",
        "# sen_tok_list = []\n",
        "# wpt = WordPunctTokenizer()\n",
        "# for sentence in sentences_list:\n",
        "#   sen_tok = wpt.tokenize(sentence)\n",
        "#   sen_tok_list.append(sen_tok)\n",
        "# from nltk.stem.wordnet import WordNetLemmatizer\n",
        "# wnlem = WordNetLemmatizer()\n",
        "# for i in range(len(sen_tok_list)):\n",
        "#   for j in range(len(sen_tok_list[i])):\n",
        "#     sen_tok_list[i][j] = wnlem.lemmatize(sen_tok_list[i][j])\n",
        "# final_word_list = []\n",
        "# stop_words_list = stopwords.words('english')\n",
        "# for i in range(len(sen_tok_list)):\n",
        "#   temp_word_list = []\n",
        "#   for j in range(len(sen_tok_list[i])):\n",
        "#     if sen_tok_list[i][j] not in stop_words_list and sen_tok_list[i][j].isalnum() == True and sen_tok_list[i][j].isnumeric() == False:\n",
        "#       temp_word_list.append(sen_tok_list[i][j])\n",
        "#   final_word_list.append(temp_word_list)\n",
        "\n",
        "# from gensim.models import Word2Vec\n",
        "# word2vec_obj = Word2Vec(final_word_list, min_count=1,size= 40,workers =2,batch_words = 2000)\n",
        "# vocab = word2vec_obj.wv.vocab.keys()\n",
        "\n",
        "# word_list = []\n",
        "# label_list = []\n",
        "# seen_dict = {}\n",
        "# for sentence in final_word_list:\n",
        "#   for word in sentence:\n",
        "#     if word not in seen_dict:\n",
        "#       seen_dict[word] = 1\n",
        "#       word_list.append(word)\n",
        "#       if word not in complex_word_dict:\n",
        "#         label_list.append(0)\n",
        "#       else:\n",
        "#         label_list.append(complex_word_dict[word])\n",
        "# train_data_x = [] \n",
        "# max_length = 0\n",
        "# for i in range(len(word_list)):\n",
        "#     train_data_x.append(word2vec_obj.wv[word_list[i]])"
      ],
      "metadata": {
        "id": "yjP-CxlwZ3m8"
      },
      "execution_count": null,
      "outputs": []
    },
    {
      "cell_type": "code",
      "source": [
        "# import tensorflow as tf\n",
        "# from tensorflow.keras.models import Sequential\n",
        "# from tensorflow.keras.layers import BatchNormalization,Dense\n",
        "\n",
        "# model = Sequential()\n",
        "# model.add(Dense(25,activation=tf.nn.relu,kernel_initializer=tf.keras.initializers.he_normal(seed=42)))\n",
        "# model.add(tf.keras.layers.BatchNormalization()) \n",
        "# model.add(Dense(1,activation=tf.nn.relu,kernel_initializer=tf.keras.initializers.he_normal(seed=64)))\n",
        "# adam_opt = tf.keras.optimizers.Adam(learning_rate=0.001)\n",
        "# model.compile(loss='binary_crossentropy', optimizer=adam_opt, metrics=['accuracy'])\n",
        "# model.fit(train_data_x, label_list, epochs=50)"
      ],
      "metadata": {
        "id": "XNu07lPNZ7sF"
      },
      "execution_count": null,
      "outputs": []
    }
  ]
}