{
  "nbformat": 4,
  "nbformat_minor": 0,
  "metadata": {
    "colab": {
      "provenance": []
    },
    "kernelspec": {
      "name": "python3",
      "display_name": "Python 3"
    },
    "language_info": {
      "name": "python"
    }
  },
  "cells": [
    {
      "cell_type": "code",
      "source": [
        "from google.colab import drive\n",
        "drive.mount(\"/content/drive\")"
      ],
      "metadata": {
        "colab": {
          "base_uri": "https://localhost:8080/"
        },
        "id": "xyMmt3HX9if6",
        "outputId": "94d6f5cd-847c-4273-a7c6-4e7bfa238de4"
      },
      "execution_count": 1,
      "outputs": [
        {
          "output_type": "stream",
          "name": "stdout",
          "text": [
            "Mounted at /content/drive\n"
          ]
        }
      ]
    },
    {
      "cell_type": "code",
      "source": [
        "import pandas as pd\n",
        "import numpy as np\n",
        "from sklearn.feature_extraction.text import TfidfVectorizer\n",
        "from sklearn.svm import SVC\n",
        "from sklearn.preprocessing import LabelEncoder\n",
        "import pickle"
      ],
      "metadata": {
        "id": "_SFtduNH88b4"
      },
      "execution_count": 6,
      "outputs": []
    },
    {
      "cell_type": "code",
      "source": [
        "# Load the Jigsaw dataset\n",
        "jigsaw_data = pd.read_csv(\"drive/MyDrive/all_data.csv\")\n",
        "\n",
        "jigsaw_data = jigsaw_data.dropna(subset=[\"comment_text\"])\n",
        "\n",
        "# Preprocess the Jigsaw data\n",
        "jigsaw_text = jigsaw_data[\"comment_text\"].tolist()"
      ],
      "metadata": {
        "id": "6CL_E3NVDt3i"
      },
      "execution_count": 3,
      "outputs": []
    },
    {
      "cell_type": "code",
      "source": [
        "# Extract features using TF-IDF\n",
        "vectorizer = TfidfVectorizer()\n",
        "X = vectorizer.fit_transform(jigsaw_text)"
      ],
      "metadata": {
        "id": "5SOheG5tDykH"
      },
      "execution_count": 4,
      "outputs": []
    },
    {
      "cell_type": "code",
      "source": [
        "# Convert the label matrix to a 1D array\n",
        "label_encoder = LabelEncoder()\n",
        "y = jigsaw_data.iloc[:, 2:].apply(lambda x: label_encoder.fit_transform(x))\n",
        "\n",
        "# Choose the label with the highest probability\n",
        "y = np.argmax(y.values, axis=1)"
      ],
      "metadata": {
        "id": "jQsiSHVED0mz"
      },
      "execution_count": 5,
      "outputs": []
    },
    {
      "cell_type": "code",
      "source": [
        "# Create an SVM model\n",
        "svc = SVC(kernel='linear', C=1, random_state=0)\n",
        "\n",
        "# Train the model and save it\n",
        "filename = 'model.pkl'\n",
        "try:\n",
        "    with open(filename, 'rb') as file:\n",
        "        svc = pickle.load(file)\n",
        "        print('Loaded previously trained model')\n",
        "except:\n",
        "    svc.fit(X, y)\n",
        "    with open(filename, 'wb') as file:\n",
        "        pickle.dump(svc, file)\n",
        "        print('Trained new model and saved it')"
      ],
      "metadata": {
        "id": "Juei_f2wEdPN"
      },
      "execution_count": null,
      "outputs": []
    },
    {
      "cell_type": "code",
      "source": [
        "# Continue training the model if needed\n",
        "svc.fit(X, y)\n",
        "with open(filename, 'wb') as file:\n",
        "    pickle.dump(svc, file)"
      ],
      "metadata": {
        "id": "zC41Y468E4e8"
      },
      "execution_count": null,
      "outputs": []
    },
    {
      "cell_type": "code",
      "source": [
        "# Test the classifier on a single offensive word\n",
        "test_word = \"racist\"\n",
        "test_word_features = vectorizer.transform([test_word])\n",
        "model = pickle.load(open('model.pkl', 'rb'))\n",
        "predicted_label = model.predict(test_word_features)[0]\n",
        "\n",
        "# Print the predicted label\n",
        "print(\"Predicted label:\", predicted_label)"
      ],
      "metadata": {
        "id": "8wtL8KN96DT2"
      },
      "execution_count": null,
      "outputs": []
    }
  ]
}